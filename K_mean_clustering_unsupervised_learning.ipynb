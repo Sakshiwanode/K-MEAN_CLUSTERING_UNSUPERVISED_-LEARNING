{
  "nbformat": 4,
  "nbformat_minor": 0,
  "metadata": {
    "colab": {
      "provenance": []
    },
    "kernelspec": {
      "name": "python3",
      "display_name": "Python 3"
    },
    "language_info": {
      "name": "python"
    }
  },
  "cells": [
    {
      "cell_type": "code",
      "execution_count": 1,
      "metadata": {
        "id": "qywUqJKxwX4-"
      },
      "outputs": [],
      "source": [
        "#UNSUPERVISED LEARNING\n",
        "from sklearn.datasets import make_blobs #make_blocks through it we can make own dataset\n",
        "x,y=make_blobs(n_samples=150,n_features=2,centers=3,cluster_std=0.9) #standard derivation reffers distance from meann\n"
      ]
    },
    {
      "cell_type": "code",
      "source": [
        "x"
      ],
      "metadata": {
        "colab": {
          "base_uri": "https://localhost:8080/"
        },
        "id": "cjXr4n4mwsQv",
        "outputId": "c49fea8a-6852-46c6-eeac-29407a0ae06d"
      },
      "execution_count": 2,
      "outputs": [
        {
          "output_type": "execute_result",
          "data": {
            "text/plain": [
              "array([[  8.50846059,  -4.27796438],\n",
              "       [  6.73051067,  -4.557624  ],\n",
              "       [  8.18045441,  -2.51229159],\n",
              "       [  9.47547292,  -3.71023668],\n",
              "       [  5.12041464,  -3.61232717],\n",
              "       [  4.86615114,  -9.90154649],\n",
              "       [  6.96080664, -11.36854605],\n",
              "       [  5.10775494,  -9.61834501],\n",
              "       [  9.40545353,  -4.54245184],\n",
              "       [  3.72263269,  -3.63082262],\n",
              "       [  5.21555658,  -4.17358611],\n",
              "       [  5.52559039,  -9.2638716 ],\n",
              "       [  5.05310789,  -4.00327149],\n",
              "       [  5.40328205,  -9.08365836],\n",
              "       [ 11.49603145,  -2.63910434],\n",
              "       [  9.53545564,  -3.55404475],\n",
              "       [  8.69861027,  -2.93244879],\n",
              "       [  4.89759008,  -4.45570512],\n",
              "       [  8.32368848,  -3.94247355],\n",
              "       [  4.71906006,  -9.19828837],\n",
              "       [  5.24734066,  -8.54793914],\n",
              "       [  9.04653708,  -4.31289647],\n",
              "       [  9.29861067,  -3.8327927 ],\n",
              "       [ 10.22398861,  -2.47906409],\n",
              "       [  4.14661539,  -4.76964361],\n",
              "       [  6.25409967,  -3.40812455],\n",
              "       [  5.51542484,  -3.3594296 ],\n",
              "       [  4.36442488,  -2.15780017],\n",
              "       [  6.38043195, -10.80644366],\n",
              "       [  4.76579322, -10.27129086],\n",
              "       [  4.54710359, -11.45058886],\n",
              "       [  5.34698967,  -2.52105354],\n",
              "       [  7.39463518,  -3.09493956],\n",
              "       [  4.18039614,  -4.60311834],\n",
              "       [  5.75964637,  -9.99783753],\n",
              "       [  4.40576751,  -3.7804959 ],\n",
              "       [  5.49201109,  -9.06558205],\n",
              "       [  5.67352986,  -3.95853465],\n",
              "       [  4.40819839,  -9.11496653],\n",
              "       [  4.15737365,  -9.40086506],\n",
              "       [  4.75536804,  -9.61962981],\n",
              "       [  3.1661918 ,  -5.74331009],\n",
              "       [  5.31977047,  -5.55192977],\n",
              "       [  4.03759975,  -9.20276221],\n",
              "       [  9.12280402,  -3.11995976],\n",
              "       [  5.74758601,  -9.20035517],\n",
              "       [  5.63909082,  -5.56740575],\n",
              "       [  4.63141179,  -9.54018498],\n",
              "       [  3.7816274 ,  -3.90862797],\n",
              "       [  5.56544669,  -4.20615431],\n",
              "       [  3.3418134 ,  -9.83969852],\n",
              "       [  8.66349066,  -4.04126318],\n",
              "       [  4.6430792 ,  -3.85009522],\n",
              "       [  9.48614216,  -3.87824124],\n",
              "       [  5.34547844,  -2.5117736 ],\n",
              "       [  5.52427867,  -4.54325619],\n",
              "       [  6.30482096,  -8.59003321],\n",
              "       [  6.4727101 ,  -9.64201221],\n",
              "       [  4.52161511,  -9.25682627],\n",
              "       [  7.43455414,  -4.14705369],\n",
              "       [  8.17286205,  -2.56914919],\n",
              "       [  3.06206583,  -3.72917452],\n",
              "       [  9.5292434 ,  -3.60301057],\n",
              "       [ 10.05048777,  -3.75868873],\n",
              "       [ 10.03141809,  -4.4268692 ],\n",
              "       [  9.66644661,  -4.17055237],\n",
              "       [  4.77723832,  -7.98995263],\n",
              "       [  8.53585799,  -2.880301  ],\n",
              "       [  7.01723144,  -8.84593565],\n",
              "       [  6.61001147,  -4.60248689],\n",
              "       [  5.00538821,  -4.5292778 ],\n",
              "       [  8.07697553,  -3.61372345],\n",
              "       [  7.53942486,  -4.43349051],\n",
              "       [  9.64477478,  -3.80628587],\n",
              "       [  8.29857692,  -3.56844653],\n",
              "       [  5.50618174,  -9.54573068],\n",
              "       [  8.30262831,  -3.75475429],\n",
              "       [  5.10620839, -10.51601298],\n",
              "       [  9.36142522,  -4.02169542],\n",
              "       [  5.37055565,  -9.41746957],\n",
              "       [  4.73059244,  -4.30083806],\n",
              "       [  5.52436691,  -9.4361519 ],\n",
              "       [  9.09119896,  -1.96713889],\n",
              "       [  5.83941771,  -5.18680719],\n",
              "       [  8.54563003,  -3.76110126],\n",
              "       [  9.70373976,  -3.11704802],\n",
              "       [  3.96966308,  -3.17548293],\n",
              "       [  3.80219092,  -4.87074286],\n",
              "       [  5.10605743, -10.54480982],\n",
              "       [  8.84621866,  -3.54698113],\n",
              "       [  8.49530124,  -5.4191517 ],\n",
              "       [  4.76842356, -10.17962423],\n",
              "       [  5.29045514,  -8.50251491],\n",
              "       [  6.78374429,  -2.38329755],\n",
              "       [  6.4661124 ,  -4.97154198],\n",
              "       [  3.44828317,  -8.43524407],\n",
              "       [  8.44173682,  -3.6355352 ],\n",
              "       [  3.85869995,  -3.08677826],\n",
              "       [  3.61471016,  -4.38806936],\n",
              "       [  5.64703696,  -9.76866461],\n",
              "       [  4.94082687,  -8.81679676],\n",
              "       [  4.9578835 ,  -9.30734371],\n",
              "       [  5.03674162,  -8.16711535],\n",
              "       [  5.13180035, -10.16518047],\n",
              "       [  5.52156295,  -5.42813519],\n",
              "       [  5.07217475,  -5.03740684],\n",
              "       [  4.8397065 ,  -1.8337746 ],\n",
              "       [  9.48655731,  -4.75779361],\n",
              "       [  6.49538394,  -3.67793658],\n",
              "       [  8.68955264,  -4.12754905],\n",
              "       [  5.42193932,  -9.46376761],\n",
              "       [  9.46292016,  -4.72606919],\n",
              "       [  7.66050717,  -4.08757759],\n",
              "       [  5.97889541, -10.50574386],\n",
              "       [  6.02148596, -10.22845052],\n",
              "       [  4.49234753,  -4.69061089],\n",
              "       [  6.38190058,  -4.15718496],\n",
              "       [  5.29635944,  -8.87768324],\n",
              "       [  3.88953937,  -4.7895201 ],\n",
              "       [  6.00701609,  -9.02036725],\n",
              "       [  2.42099434,  -4.13075836],\n",
              "       [  4.23287166,  -7.79326317],\n",
              "       [  8.52710171,  -2.73688506],\n",
              "       [  4.42948378,  -8.64580793],\n",
              "       [  5.09234416,  -3.77215115],\n",
              "       [  8.02734353,  -1.88676681],\n",
              "       [  5.34635465,  -3.74821729],\n",
              "       [  8.376605  ,  -3.64909678],\n",
              "       [  5.86313309,  -4.22055543],\n",
              "       [  6.52195558,  -3.03675037],\n",
              "       [  4.94206715,  -3.66837568],\n",
              "       [  6.4432544 , -10.13110063],\n",
              "       [  5.13904119,  -9.91975817],\n",
              "       [  8.48822729,  -4.57186821],\n",
              "       [  4.50876983,  -9.44098339],\n",
              "       [  4.96291834,  -9.29820611],\n",
              "       [  4.76558776,  -2.51424361],\n",
              "       [  2.74508085,  -4.7508781 ],\n",
              "       [  9.01992565,  -3.81058963],\n",
              "       [  4.61961199,  -9.91053349],\n",
              "       [  5.68876778,  -3.85044434],\n",
              "       [  4.01022856,  -4.49323025],\n",
              "       [ 10.10385349,  -4.95677204],\n",
              "       [  5.66456481,  -4.33132824],\n",
              "       [  5.9900257 ,  -3.76764347],\n",
              "       [  9.60163479,  -2.98694265],\n",
              "       [  7.95466634,  -3.36273371],\n",
              "       [  5.18494983,  -3.46300754],\n",
              "       [  6.26600045,  -9.68755402],\n",
              "       [  8.94424983,  -3.75691268]])"
            ]
          },
          "metadata": {},
          "execution_count": 2
        }
      ]
    },
    {
      "cell_type": "code",
      "source": [
        "import matplotlib.pyplot as plt\n",
        "plt.scatter(x[:,0],x[:,1])"
      ],
      "metadata": {
        "colab": {
          "base_uri": "https://localhost:8080/",
          "height": 282
        },
        "id": "9zquJJ_twsWM",
        "outputId": "240564ce-dc35-45f3-b3bc-2e7bf931064f"
      },
      "execution_count": 3,
      "outputs": [
        {
          "output_type": "execute_result",
          "data": {
            "text/plain": [
              "<matplotlib.collections.PathCollection at 0x7f9ebe217f10>"
            ]
          },
          "metadata": {},
          "execution_count": 3
        },
        {
          "output_type": "display_data",
          "data": {
            "text/plain": [
              "<Figure size 432x288 with 1 Axes>"
            ],
            "image/png": "[encoded data removed]"
          },
          "metadata": {
            "needs_background": "light"
          }
        }
      ]
    },
    {
      "cell_type": "code",
      "source": [
        "from sklearn.cluster import KMeans\n",
        "wcss=[]\n",
        "K=[1,2,3,4,5,6,7,8,9]\n",
        "for i in K:\n",
        "  km=KMeans(n_clusters=i)\n",
        "  km.fit(x)\n",
        "  wcss.append(km.inertia_)\n"
      ],
      "metadata": {
        "id": "ZhHmqKzLwscd"
      },
      "execution_count": 4,
      "outputs": []
    },
    {
      "cell_type": "code",
      "source": [
        "wcss"
      ],
      "metadata": {
        "colab": {
          "base_uri": "https://localhost:8080/"
        },
        "id": "eydYkSd8w2QQ",
        "outputId": "36f6d923-2800-4f66-ac57-82c27b53ae02"
      },
      "execution_count": 5,
      "outputs": [
        {
          "output_type": "execute_result",
          "data": {
            "text/plain": [
              "[1749.9483978319242,\n",
              " 604.2719480800758,\n",
              " 216.78298754086188,\n",
              " 177.59944454080687,\n",
              " 155.42656048425684,\n",
              " 135.8236533702239,\n",
              " 114.61920014528107,\n",
              " 104.01607880425976,\n",
              " 92.58161321203102]"
            ]
          },
          "metadata": {},
          "execution_count": 5
        }
      ]
    },
    {
      "cell_type": "code",
      "source": [
        "plt.plot(K,wcss)"
      ],
      "metadata": {
        "colab": {
          "base_uri": "https://localhost:8080/",
          "height": 282
        },
        "id": "UrXf_QB-w4Fk",
        "outputId": "098b28e2-b844-42b0-fecd-5b58e3f31098"
      },
      "execution_count": 6,
      "outputs": [
        {
          "output_type": "execute_result",
          "data": {
            "text/plain": [
              "[<matplotlib.lines.Line2D at 0x7f9eb898b7c0>]"
            ]
          },
          "metadata": {},
          "execution_count": 6
        },
        {
          "output_type": "display_data",
          "data": {
            "text/plain": [
              "<Figure size 432x288 with 1 Axes>"
            ],
            "image/png": "[encoded data removed]"
          },
          "metadata": {
            "needs_background": "light"
          }
        }
      ]
    },
    {
      "cell_type": "code",
      "source": [
        "km=KMeans(n_clusters=3)\n",
        "ypred=km.fit_predict(x)\n",
        "ypred"
      ],
      "metadata": {
        "colab": {
          "base_uri": "https://localhost:8080/"
        },
        "id": "0QamPgrcw4Wr",
        "outputId": "f63d5ee9-d0f1-4ec2-be65-7f6030e048d9"
      },
      "execution_count": 7,
      "outputs": [
        {
          "output_type": "execute_result",
          "data": {
            "text/plain": [
              "array([0, 2, 0, 0, 2, 1, 1, 1, 0, 2, 2, 1, 2, 1, 0, 0, 0, 2, 0, 1, 1, 0,\n",
              "       0, 0, 2, 2, 2, 2, 1, 1, 1, 2, 0, 2, 1, 2, 1, 2, 1, 1, 1, 2, 2, 1,\n",
              "       0, 1, 2, 1, 2, 2, 1, 0, 2, 0, 2, 2, 1, 1, 1, 0, 0, 2, 0, 0, 0, 0,\n",
              "       1, 0, 1, 2, 2, 0, 0, 0, 0, 1, 0, 1, 0, 1, 2, 1, 0, 2, 0, 0, 2, 2,\n",
              "       1, 0, 0, 1, 1, 2, 2, 1, 0, 2, 2, 1, 1, 1, 1, 1, 2, 2, 2, 0, 2, 0,\n",
              "       1, 0, 0, 1, 1, 2, 2, 1, 2, 1, 2, 1, 0, 1, 2, 0, 2, 0, 2, 2, 2, 1,\n",
              "       1, 0, 1, 1, 2, 2, 0, 1, 2, 2, 0, 2, 2, 0, 0, 2, 1, 0], dtype=int32)"
            ]
          },
          "metadata": {},
          "execution_count": 7
        }
      ]
    },
    {
      "cell_type": "code",
      "source": [
        "plt.scatter(x[:,0],x[:,1],c=ypred)"
      ],
      "metadata": {
        "colab": {
          "base_uri": "https://localhost:8080/",
          "height": 282
        },
        "id": "WQvjmUiVxANb",
        "outputId": "916a66cf-942d-458f-beaa-ee8ed4e5e367"
      },
      "execution_count": 8,
      "outputs": [
        {
          "output_type": "execute_result",
          "data": {
            "text/plain": [
              "<matplotlib.collections.PathCollection at 0x7f9eb8976a60>"
            ]
          },
          "metadata": {},
          "execution_count": 8
        },
        {
          "output_type": "display_data",
          "data": {
            "text/plain": [
              "<Figure size 432x288 with 1 Axes>"
            ],
            "image/png": "[encoded data removed]"
          },
          "metadata": {
            "needs_background": "light"
          }
        }
      ]
    },
    {
      "cell_type": "code",
      "source": [],
      "metadata": {
        "id": "kSI6TUxjxAQt"
      },
      "execution_count": null,
      "outputs": []
    }
  ]
}